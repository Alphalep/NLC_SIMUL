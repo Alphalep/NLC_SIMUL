{
 "cells": [
  {
   "cell_type": "code",
   "execution_count": 4,
   "metadata": {},
   "outputs": [
    {
     "name": "stdout",
     "output_type": "stream",
     "text": [
      "cuda:0\n",
      "torch.Size([1, 4])\n",
      "tensor([[0.],\n",
      "        [0.],\n",
      "        [0.],\n",
      "        [0.]], device='cuda:0', dtype=torch.float64)\n"
     ]
    }
   ],
   "source": [
    "import numpy as np\n",
    "import torch \n",
    "\n",
    "device = torch.device(\"cuda:0\" if torch.cuda.is_available() else \"cpu\")\n",
    "print(device)\n",
    "# Stoke vector for the input polarized light\n",
    "\n",
    "'''\n",
    "     z    |\n",
    "          |\n",
    "          |________ x\n",
    "      y  /\n",
    "'''\n",
    "\n",
    "\n",
    "s_in = np.array([[1,0,0,0]],dtype=\"float\")\n",
    "\n",
    "s_in_d =  torch.tensor(s_in,device=device)\n",
    "\n",
    "print(s_in_d.size())\n",
    "\n",
    "# Polarizer \n",
    "P_in = 0.5*np.array([[1,0,0,1],\n",
    "                     [0,0,0,0],\n",
    "                     [0,0,0,0],\n",
    "                     [1,0,0,1]])\n",
    "P_in_d =  torch.tensor(P_in,device=device)   \n",
    "\n",
    "#theoretical pure twist result \n",
    "def director(x,z,lam):\n",
    "\n",
    "\n",
    "     return (np.pi*x/lam\n",
    "\n",
    "# Calculate Mueller matrix for the jth particle\n",
    "\n",
    "\n",
    "\n",
    "# Analyzer \n",
    "P_out = 0.5*np.array([[1,0,0,-1],\n",
    "                      [0,0,0,0],\n",
    "                      [0,0,0,0],\n",
    "                      [-1,0,0,1]])\n",
    "P_out_d =  torch.tensor(P_out,device=device)    \n",
    "\n",
    "\n",
    "s_out_d = P_out_d @ P_in_d @ s_in_d.T\n",
    "\n",
    "print(s_out_d)"
   ]
  },
  {
   "cell_type": "code",
   "execution_count": null,
   "metadata": {},
   "outputs": [],
   "source": []
  }
 ],
 "metadata": {
  "interpreter": {
   "hash": "31f2aee4e71d21fbe5cf8b01ff0e069b9275f58929596ceb00d14d90e3e16cd6"
  },
  "kernelspec": {
   "display_name": "Python 3.9.6 64-bit",
   "language": "python",
   "name": "python3"
  },
  "language_info": {
   "codemirror_mode": {
    "name": "ipython",
    "version": 3
   },
   "file_extension": ".py",
   "mimetype": "text/x-python",
   "name": "python",
   "nbconvert_exporter": "python",
   "pygments_lexer": "ipython3",
   "version": "3.8.10"
  },
  "orig_nbformat": 4
 },
 "nbformat": 4,
 "nbformat_minor": 2
}
